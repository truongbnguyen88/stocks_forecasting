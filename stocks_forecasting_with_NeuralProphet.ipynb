{
 "cells": [
  {
   "cell_type": "code",
   "execution_count": null,
   "metadata": {},
   "outputs": [],
   "source": [
    "from prophet import Prophet\n",
    "from neuralprophet import NeuralProphet\n",
    "import xgboost as xgb\n",
    "\n",
    "import sys, os, yaml, ta\n",
    "import pandas as pd\n",
    "import numpy as np\n",
    "from datetime import datetime\n",
    "from datetime import timedelta\n",
    "from sklearn.metrics import mean_squared_error, mean_absolute_error, mean_absolute_percentage_error\n",
    "import matplotlib.pyplot as plt\n",
    "\n",
    "import yfinance as yf\n",
    "from dateutil.relativedelta import relativedelta\n",
    "\n",
    "from stock_forecast_module import *\n",
    "\n",
    "pd.set_option('display.max_rows', 200)\n",
    "pd.set_option('display.max_columns', 200)\n",
    "\n",
    "import warnings\n",
    "warnings.filterwarnings(\"ignore\")\n",
    "warnings.filterwarnings(\"ignore\", category=UserWarning, module=\"prophet\")\n",
    "warnings.filterwarnings(\"ignore\", category=UserWarning, module=\"neuralprophet\")\n",
    "\n",
    "import logging\n",
    "logging.getLogger(\"prophet\").setLevel(logging.ERROR)\n",
    "logging.getLogger(\"neuralprophet\").setLevel(logging.ERROR)\n",
    "logging.getLogger(\"cmdstanpy\").disable=True"
   ]
  },
  {
   "cell_type": "code",
   "execution_count": null,
   "metadata": {},
   "outputs": [],
   "source": [
    "# Load inputs from inputs.yml\n",
    "with open('inputs.yml', 'r') as file:\n",
    "    inputs = yaml.safe_load(file)\n",
    "\n",
    "# Access specific inputs\n",
    "start_dt = inputs['params']['start_dt']\n",
    "split_dt = inputs['params']['split_dt']\n",
    "real_fc_start_dt = datetime.today().date().strftime('%Y-%m-%d') # inputs['params']['real_fc_start_dt']\n",
    "real_fc_end_dt = inputs['params']['real_fc_end_dt']\n",
    "stock_sticker = inputs['params']['stock_sticker']\n",
    "\n",
    "print(f\"Stock sticker: {stock_sticker}\")\n",
    "print(f\"Start date: {start_dt}\")\n",
    "print(f\"Split date: {split_dt}\")\n",
    "print(f\"Real forecast start date: {real_fc_start_dt}\")\n",
    "print(f\"Real forecast end date: {real_fc_end_dt}\")"
   ]
  },
  {
   "cell_type": "code",
   "execution_count": null,
   "metadata": {},
   "outputs": [],
   "source": [
    "# Download SP500, NASDAQ, and VIX data\n",
    "today_date = datetime.today().date()\n",
    "\n",
    "sp500_data = yf.download('^GSPC',   start=start_dt, end=today_date.strftime('%Y-%m-%d'))\n",
    "nasdaq_data = yf.download('^IXIC',  start=start_dt, end=today_date.strftime('%Y-%m-%d'))\n",
    "vix_data = yf.download('^VIX',      start=start_dt, end=today_date.strftime('%Y-%m-%d'))"
   ]
  },
  {
   "cell_type": "code",
   "execution_count": null,
   "metadata": {},
   "outputs": [],
   "source": [
    "# Download AAPL, NVDA, and MSFT stock price data\n",
    "aapl_data = yf.download('AAPL', start=start_dt, end=today_date.strftime('%Y-%m-%d'))\n",
    "nvda_data = yf.download('NVDA', start=start_dt, end=today_date.strftime('%Y-%m-%d'))\n",
    "msft_data = yf.download('MSFT', start=start_dt, end=today_date.strftime('%Y-%m-%d'))\n",
    "\n",
    "display(aapl_data.head())\n",
    "display(aapl_data.tail())"
   ]
  },
  {
   "cell_type": "code",
   "execution_count": null,
   "metadata": {},
   "outputs": [],
   "source": [
    "stock_data, stocks_indicator_features = import_stock_data(stock_sticker, start_dt)\n",
    "display(stock_data.head())\n",
    "display(stock_data.tail())"
   ]
  },
  {
   "cell_type": "code",
   "execution_count": null,
   "metadata": {},
   "outputs": [],
   "source": [
    "### DATA PREPROCESSING & FEATURE ENGINEERING ###\n",
    "\n",
    "df, exo_vars = preprocess_data(stock_data, \n",
    "                               stocks_additional_features=stocks_indicator_features, \n",
    "                               sticker=stock_sticker)\n",
    "\n",
    "# get stock market data (SP500, NASDAQ, VIX)\n",
    "df_market = clean_market_data(sp500_data, nasdaq_data, vix_data)\n",
    "df = df.merge(df_market, on='ds', how='left')\n",
    "# add market data columns to exogeneous variables\n",
    "df_market_cols = df_market.columns.tolist()\n",
    "df_market_cols.remove('ds')  # Remove 'ds' from the list of market columns\n",
    "exo_vars.extend(df_market_cols)\n",
    "\n",
    "# get tech stocks data (AAPL, NVDA, MSFT)\n",
    "df_tech = clean_tech_stocks_data(aapl_data, nvda_data, msft_data)\n",
    "df = df.merge(df_tech, on='ds', how='left')\n",
    "# add market data columns to exogeneous variables\n",
    "df_tech_cols = df_tech.columns.tolist()\n",
    "df_tech_cols.remove('ds')  # Remove 'ds' from the list of market columns\n",
    "exo_vars.extend(df_tech_cols)\n",
    "\n",
    "# get earnings dates (might be helpfull for training/predictions - Right now, not used)\n",
    "df_earnings, eps_cols = get_earnings_dates(sticker=stock_sticker)\n",
    "df = df.merge(df_earnings, on='ds', how='left')\n",
    "\n",
    "# get federal reserve data\n",
    "df, exo_vars = get_federal_reserve_data(df, exo_vars, start_date=start_dt)\n",
    "\n",
    "# get daily news sentiment data\n",
    "df_news_sentiment, exo_vars = extract_historical_news_sentiment(exo_vars, folder_path=\"gdelt_news_sentiment\")\n",
    "df = df.merge(df_news_sentiment, on='ds', how='left')\n",
    "\n",
    "# create train and test sets from overall dataset\n",
    "df, df_train, df_test = create_train_test_sets(df, split_date=split_dt, start_date=start_dt)\n",
    "\n",
    "print(\"using exogeneous features:\", exo_vars)"
   ]
  },
  {
   "cell_type": "code",
   "execution_count": null,
   "metadata": {},
   "outputs": [],
   "source": [
    "n_days = (pd.to_datetime(df_test['ds'].max()) - pd.to_datetime(df_test['ds'].min())).days + 1\n",
    "\n",
    "m = NeuralProphet(\n",
    "    n_changepoints=30,\n",
    "    yearly_seasonality=False,\n",
    "    weekly_seasonality=False,\n",
    "    daily_seasonality=False,\n",
    "    n_lags=2,\n",
    ")\n",
    "# Add monthly & quarterly seasonality\n",
    "m = m.add_seasonality(name='monthly', period=30.5, fourier_order=5)\n",
    "m = m.add_seasonality(name='quarterly', period=91.25, fourier_order=5)\n",
    "m = m.add_country_holidays(\"US\")\n",
    "\n",
    "# add lagged-regressors for all exogeneous variables\n",
    "for c in exo_vars:\n",
    "    m.add_lagged_regressor(c)\n",
    "    # m.add_future_regressor(c)\n",
    "\n",
    "# train on training data\n",
    "metrics = m.fit(df_train[['ds','y']+exo_vars])"
   ]
  },
  {
   "cell_type": "code",
   "execution_count": null,
   "metadata": {},
   "outputs": [],
   "source": [
    "df_test.tail()"
   ]
  },
  {
   "cell_type": "code",
   "execution_count": null,
   "metadata": {},
   "outputs": [],
   "source": [
    "pd.to_datetime(df_test['ds'].min())"
   ]
  },
  {
   "cell_type": "code",
   "execution_count": null,
   "metadata": {},
   "outputs": [],
   "source": [
    "def predict_future_exo_vars_with_neuralprophet(df_train, df_test, exo_vars, lag_vars=None):\n",
    "    df = pd.concat([df_train, df_test], axis=0, ignore_index=True)\n",
    "    df_exo_vars_forecast = df[['ds']].copy(deep=True)\n",
    "\n",
    "    # calculate number of days to forecast i.e., how many days are there in df_test\n",
    "    n_days_to_forecast = pd.to_datetime(df_test['ds'].max()) - pd.to_datetime(split_dt)\n",
    "    n_days_to_forecast = n_days_to_forecast.days + 1\n",
    "\n",
    "    # making raw forecasts for exogenous variables\n",
    "    for var in ['RSI']:#,'SentimentScore']:\n",
    "        print(var)\n",
    "        m = NeuralProphet(\n",
    "                n_forecasts=n_days_to_forecast,\n",
    "                n_changepoints=20,\n",
    "                yearly_seasonality=True,\n",
    "                weekly_seasonality=True,\n",
    "                daily_seasonality=False,\n",
    "                # ar_layers=[64, 128, 64],\n",
    "                # learning_rate=0.001,\n",
    "                # epochs=100,\n",
    "                # n_lags=10,\n",
    "                # batch_size=128,\n",
    "            )\n",
    "        # Add monthly & quarterly seasonality\n",
    "        m = m.add_seasonality(name='monthly', period=30.5, fourier_order=9)\n",
    "        m = m.add_seasonality(name='quarterly', period=91.25, fourier_order=9)\n",
    "        m = m.add_seasonality(name='biannually', period=182.5, fourier_order=9)\n",
    "        m = m.add_country_holidays(\"US\")\n",
    "        df_train_var = df_train[['ds', var]].rename(columns={var: 'y'})\n",
    "        m.fit(df_train_var, freq='D')\n",
    "        future = m.make_future_dataframe(df_train_var, n_historic_predictions=True, periods=n_days_to_forecast)\n",
    "        future = future[future['ds'].dt.dayofweek < 5]\n",
    "        forecast = m.predict(future)\n",
    "        df_exo_vars_forecast = df_exo_vars_forecast.merge(forecast[['ds', 'yhat1']], on='ds', how='left')\n",
    "        df_exo_vars_forecast.rename(columns={'yhat1': var}, inplace=True)\n",
    "    return df_exo_vars_forecast, m, forecast\n",
    "\n",
    "\n",
    "df_exo_vars_forecast, model, forecast = predict_future_exo_vars_with_neuralprophet(df_train, df_test, exo_vars, lag_vars=None)"
   ]
  },
  {
   "cell_type": "code",
   "execution_count": null,
   "metadata": {},
   "outputs": [],
   "source": [
    "df_exo_vars_forecast['ds'] = df_exo_vars_forecast['ds'] + timedelta(days=1)"
   ]
  },
  {
   "cell_type": "code",
   "execution_count": null,
   "metadata": {},
   "outputs": [],
   "source": [
    "# def unroll_forecasts(df_forecast, n_forecasts=3, freq='D'):\n",
    "#     all_rows = []\n",
    "#     for i in range(1, n_forecasts + 1):\n",
    "#         df_i = df_forecast[['ds', f'yhat{i}']].copy()\n",
    "#         df_i['ds'] = pd.to_datetime(df_i['ds']) + pd.to_timedelta(i, unit=freq.lower())\n",
    "#         df_i.rename(columns={f'yhat{i}': 'yhat'}, inplace=True)\n",
    "#         all_rows.append(df_i)\n",
    "#     df_out = pd.concat(all_rows).sort_values('ds').reset_index(drop=True)\n",
    "#     return df_out\n",
    "\n",
    "# df2 = unroll_forecasts(df2[['ds']+[f'yhat{t}' for t in range(1,92)]], n_forecasts=91)"
   ]
  },
  {
   "cell_type": "code",
   "execution_count": null,
   "metadata": {},
   "outputs": [],
   "source": [
    "for col in ['RSI']:#,'SentimentScore']:\n",
    "    fig, ax = plt.subplots(1,1,figsize=(12,4))\n",
    "    ax.plot(df['ds'],  df[col], label=f'{col}: Actual', c='blue')\n",
    "    ax.plot(df_exo_vars_forecast['ds'], df_exo_vars_forecast[col], label=f'{col}: Forecast', c='red')\n",
    "    ax.set_xlabel('Date')\n",
    "    # ax.set_xlim([pd.to_datetime('2023-01-01'), pd.to_datetime(df3['ds'].max())])\n",
    "    ax.legend()\n",
    "    plt.show()"
   ]
  },
  {
   "cell_type": "code",
   "execution_count": null,
   "metadata": {},
   "outputs": [],
   "source": [
    "df_tmp = df_exo_vars_forecast[df_exo_vars_forecast['ds'] >= split_dt].copy(deep=True)\n",
    "df_tmp = df_tmp[df_tmp['ds'].dt.dayofweek < 5]\n",
    "df_tmp = df_tmp.rename(columns={'RSI':'RSI_predict'})\n",
    "\n",
    "df_tmp1 = df[df['ds'] >= split_dt].copy(deep=True)\n",
    "df_tmp1 = df_tmp1.rename(columns={'RSI':'RSI_actual'})\n",
    "df_tmp  = df_tmp[['ds','RSI_predict']].merge(df_tmp1[['ds','RSI_actual']], on='ds', how='left')\n",
    "df_tmp = df_tmp.dropna(subset=['RSI_predict','RSI_actual'])\n",
    "\n",
    "actual_test = df_tmp['RSI_actual']\n",
    "predicted_test = df_tmp['RSI_predict']\n",
    "\n",
    "mape, rmse, mae = calculate_performance_scores(actual_test, predicted_test)\n",
    "print('max absolute percentage error:', np.round(mape*100.0, 2),'%')"
   ]
  },
  {
   "cell_type": "code",
   "execution_count": null,
   "metadata": {},
   "outputs": [],
   "source": [
    "sys.exit()"
   ]
  },
  {
   "cell_type": "code",
   "execution_count": null,
   "metadata": {},
   "outputs": [],
   "source": [
    "# make predictions\n",
    "future = df[['ds','y']+exo_vars].copy(deep=True)\n",
    "# future[future['ds'] >= pd.to_datetime(split_dt)][exo_vars] = np.nan\n",
    "future.loc[future['ds'] >= pd.to_datetime(split_dt), exo_vars] = np.nan\n",
    "forecast = m.predict(future)"
   ]
  },
  {
   "cell_type": "code",
   "execution_count": null,
   "metadata": {},
   "outputs": [],
   "source": [
    "future.tail(10)"
   ]
  },
  {
   "cell_type": "code",
   "execution_count": null,
   "metadata": {},
   "outputs": [],
   "source": [
    "sys.exit()"
   ]
  },
  {
   "cell_type": "code",
   "execution_count": null,
   "metadata": {},
   "outputs": [],
   "source": [
    "df1 = forecast[forecast['ds'] <  split_dt]\n",
    "df2 = forecast[forecast['ds'] >= split_dt]\n",
    "\n",
    "fig, ax = plt.subplots(1,1,figsize=(10,5))\n",
    "ax.plot(df_train['ds'], df_train['y'], c='blue', label='Actual (TrainSet)',   ls='-')\n",
    "ax.plot(df_test['ds'],  df_test['y'],  c='blue', label='Actual (TestSet)',    ls='--')\n",
    "ax.plot(df1['ds'],      df1['yhat1'],  c='red',  label='Forecast (TrainSet)', ls='-')\n",
    "ax.plot(df2['ds'],      df2['yhat1'],  c='red',  label='Forecast (TestSet)',  ls='--')\n",
    "ax.axvline(pd.to_datetime(split_dt), color='k', linestyle='-.', label='Split Date')\n",
    "ax.set_xlim(pd.to_datetime(split_dt) - relativedelta(years=1), pd.to_datetime(df['ds'].max()))\n",
    "ax.legend()"
   ]
  },
  {
   "cell_type": "code",
   "execution_count": null,
   "metadata": {},
   "outputs": [],
   "source": [
    "df1 = forecast[forecast['ds']<split_dt].dropna(subset=['yhat1'])\n",
    "actual_test   = df1['y'].values\n",
    "predicted_test= df1['yhat1'].values\n",
    "mape, rmse, mae = calculate_performance_scores(actual_test, predicted_test)\n",
    "print('train max absolute percentage error:', np.round(mape*100.0, 2),'%')\n",
    "\n",
    "df2 = forecast[forecast['ds']>=split_dt]\n",
    "actual_test   = df2['y'].values\n",
    "predicted_test= df2['yhat1'].values\n",
    "mape, rmse, mae = calculate_performance_scores(actual_test, predicted_test)\n",
    "print('test max absolute percentage error:', np.round(mape*100.0, 2),'%')"
   ]
  },
  {
   "cell_type": "code",
   "execution_count": null,
   "metadata": {},
   "outputs": [],
   "source": [
    "future.tail()"
   ]
  },
  {
   "cell_type": "code",
   "execution_count": null,
   "metadata": {},
   "outputs": [],
   "source": []
  }
 ],
 "metadata": {
  "kernelspec": {
   "display_name": "base",
   "language": "python",
   "name": "python3"
  },
  "language_info": {
   "codemirror_mode": {
    "name": "ipython",
    "version": 3
   },
   "file_extension": ".py",
   "mimetype": "text/x-python",
   "name": "python",
   "nbconvert_exporter": "python",
   "pygments_lexer": "ipython3",
   "version": "3.10.8"
  }
 },
 "nbformat": 4,
 "nbformat_minor": 2
}
