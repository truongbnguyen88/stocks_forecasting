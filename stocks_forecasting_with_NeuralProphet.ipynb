{
 "cells": [
  {
   "cell_type": "code",
   "execution_count": null,
   "metadata": {},
   "outputs": [],
   "source": [
    "from prophet import Prophet\n",
    "from neuralprophet import NeuralProphet\n",
    "import xgboost as xgb\n",
    "\n",
    "import sys, os, yaml, ta\n",
    "import pandas as pd\n",
    "import numpy as np\n",
    "from datetime import datetime\n",
    "from datetime import timedelta\n",
    "from sklearn.metrics import mean_squared_error, mean_absolute_error, mean_absolute_percentage_error\n",
    "import matplotlib.pyplot as plt\n",
    "\n",
    "import yfinance as yf\n",
    "from dateutil.relativedelta import relativedelta\n",
    "\n",
    "from stock_forecast_module import *\n",
    "\n",
    "pd.set_option('display.max_rows', 200)\n",
    "pd.set_option('display.max_columns', 200)\n",
    "\n",
    "import warnings\n",
    "warnings.filterwarnings(\"ignore\")\n",
    "warnings.filterwarnings(\"ignore\", category=UserWarning, module=\"prophet\")\n",
    "warnings.filterwarnings(\"ignore\", category=UserWarning, module=\"neuralprophet\")\n",
    "\n",
    "import logging\n",
    "logging.getLogger(\"prophet\").setLevel(logging.ERROR)\n",
    "logging.getLogger(\"neuralprophet\").setLevel(logging.ERROR)\n",
    "logging.getLogger(\"cmdstanpy\").disable=True"
   ]
  },
  {
   "cell_type": "code",
   "execution_count": null,
   "metadata": {},
   "outputs": [],
   "source": [
    "# Load inputs from inputs.yml\n",
    "with open('inputs.yml', 'r') as file:\n",
    "    inputs = yaml.safe_load(file)\n",
    "\n",
    "# Access specific inputs\n",
    "start_dt = inputs['params']['start_dt']\n",
    "split_dt = inputs['params']['split_dt']\n",
    "real_fc_start_dt = datetime.today().date().strftime('%Y-%m-%d') # inputs['params']['real_fc_start_dt']\n",
    "real_fc_end_dt = inputs['params']['real_fc_end_dt']\n",
    "stock_sticker = inputs['params']['stock_sticker']\n",
    "\n",
    "print(f\"Stock sticker: {stock_sticker}\")\n",
    "print(f\"Start date: {start_dt}\")\n",
    "print(f\"Split date: {split_dt}\")\n",
    "print(f\"Real forecast start date: {real_fc_start_dt}\")\n",
    "print(f\"Real forecast end date: {real_fc_end_dt}\")"
   ]
  },
  {
   "cell_type": "code",
   "execution_count": null,
   "metadata": {},
   "outputs": [],
   "source": [
    "# Download SP500, NASDAQ, and VIX data\n",
    "today_date = datetime.today().date()\n",
    "\n",
    "sp500_data = yf.download('^GSPC',   start=start_dt, end=today_date.strftime('%Y-%m-%d'))\n",
    "nasdaq_data = yf.download('^IXIC',  start=start_dt, end=today_date.strftime('%Y-%m-%d'))\n",
    "vix_data = yf.download('^VIX',      start=start_dt, end=today_date.strftime('%Y-%m-%d'))"
   ]
  },
  {
   "cell_type": "code",
   "execution_count": null,
   "metadata": {},
   "outputs": [],
   "source": [
    "# Download AAPL, NVDA, and MSFT stock price data\n",
    "aapl_data = yf.download('AAPL', start=start_dt, end=today_date.strftime('%Y-%m-%d'))\n",
    "nvda_data = yf.download('NVDA', start=start_dt, end=today_date.strftime('%Y-%m-%d'))\n",
    "msft_data = yf.download('MSFT', start=start_dt, end=today_date.strftime('%Y-%m-%d'))\n",
    "\n",
    "display(aapl_data.head())\n",
    "display(aapl_data.tail())"
   ]
  },
  {
   "cell_type": "code",
   "execution_count": null,
   "metadata": {},
   "outputs": [],
   "source": [
    "stock_data, stocks_indicator_features = import_stock_data(stock_sticker, start_dt)\n",
    "display(stock_data.head())\n",
    "display(stock_data.tail())"
   ]
  },
  {
   "cell_type": "code",
   "execution_count": null,
   "metadata": {},
   "outputs": [],
   "source": [
    "### DATA PREPROCESSING & FEATURE ENGINEERING ###\n",
    "\n",
    "df, exo_vars = preprocess_data(stock_data, \n",
    "                               stocks_additional_features=stocks_indicator_features, \n",
    "                               sticker=stock_sticker)\n",
    "\n",
    "# get stock market data (SP500, NASDAQ, VIX)\n",
    "df_market = clean_market_data(sp500_data, nasdaq_data, vix_data)\n",
    "df = df.merge(df_market, on='ds', how='left')\n",
    "# add market data columns to exogeneous variables\n",
    "df_market_cols = df_market.columns.tolist()\n",
    "df_market_cols.remove('ds')  # Remove 'ds' from the list of market columns\n",
    "exo_vars.extend(df_market_cols)\n",
    "\n",
    "# get tech stocks data (AAPL, NVDA, MSFT)\n",
    "df_tech = clean_tech_stocks_data(aapl_data, nvda_data, msft_data)\n",
    "df = df.merge(df_tech, on='ds', how='left')\n",
    "# add market data columns to exogeneous variables\n",
    "df_tech_cols = df_tech.columns.tolist()\n",
    "df_tech_cols.remove('ds')  # Remove 'ds' from the list of market columns\n",
    "exo_vars.extend(df_tech_cols)\n",
    "\n",
    "# get earnings dates (might be helpfull for training/predictions - Right now, not used)\n",
    "df_earnings, eps_cols = get_earnings_dates(sticker=stock_sticker)\n",
    "df = df.merge(df_earnings, on='ds', how='left')\n",
    "\n",
    "# get federal reserve data\n",
    "df, exo_vars = get_federal_reserve_data(df, exo_vars, start_date=start_dt)\n",
    "\n",
    "# get daily news sentiment data\n",
    "df_news_sentiment, exo_vars = extract_historical_news_sentiment(exo_vars, folder_path=\"gdelt_news_sentiment\")\n",
    "df = df.merge(df_news_sentiment, on='ds', how='left')\n",
    "\n",
    "# create train and test sets from overall dataset\n",
    "df, df_train, df_test = create_train_test_sets(df, split_date=split_dt, start_date=start_dt)\n",
    "\n",
    "print(\"using exogeneous features:\", exo_vars)"
   ]
  },
  {
   "cell_type": "code",
   "execution_count": null,
   "metadata": {},
   "outputs": [],
   "source": [
    "df.head()"
   ]
  },
  {
   "cell_type": "code",
   "execution_count": null,
   "metadata": {},
   "outputs": [],
   "source": [
    "n_days = (pd.to_datetime(df_test['ds'].max()) - pd.to_datetime(df_test['ds'].min())).days + 1\n",
    "\n",
    "m = NeuralProphet(\n",
    "    # n_forecasts=n_days,\n",
    "    # n_changepoints=10,\n",
    "    yearly_seasonality=True,\n",
    "    weekly_seasonality=False,\n",
    "    daily_seasonality=False,\n",
    "    # n_lags=5,\n",
    ")\n",
    "# Add monthly seasonality\n",
    "m.add_seasonality(name='monthly', period=30.5, fourier_order=5)\n",
    "# Add quarterly seasonality\n",
    "m.add_seasonality(name='quarterly', period=91.25, fourier_order=5)\n",
    "\n",
    "# train on training data\n",
    "metrics = m.fit(df_train[['ds','y']])\n",
    "\n",
    "# make predictions\n",
    "future = df[['ds','y']].copy(deep=True)\n",
    "forecast = m.predict(future)"
   ]
  },
  {
   "cell_type": "code",
   "execution_count": null,
   "metadata": {},
   "outputs": [],
   "source": [
    "m.set_plotting_backend(\"plotly-static\")\n",
    "m.plot(forecast)"
   ]
  },
  {
   "cell_type": "code",
   "execution_count": null,
   "metadata": {},
   "outputs": [],
   "source": [
    "forecast.tail()"
   ]
  },
  {
   "cell_type": "code",
   "execution_count": null,
   "metadata": {},
   "outputs": [],
   "source": [
    "# Add monthly seasonality\n",
    "m.add_seasonality(name='monthly', period=30.5, fourier_order=5)\n",
    "\n",
    "# Add quarterly seasonality\n",
    "m.add_seasonality(name='quarterly', period=91.25, fourier_order=5)"
   ]
  },
  {
   "cell_type": "code",
   "execution_count": null,
   "metadata": {},
   "outputs": [],
   "source": []
  }
 ],
 "metadata": {
  "kernelspec": {
   "display_name": "base",
   "language": "python",
   "name": "python3"
  },
  "language_info": {
   "codemirror_mode": {
    "name": "ipython",
    "version": 3
   },
   "file_extension": ".py",
   "mimetype": "text/x-python",
   "name": "python",
   "nbconvert_exporter": "python",
   "pygments_lexer": "ipython3",
   "version": "3.10.8"
  }
 },
 "nbformat": 4,
 "nbformat_minor": 2
}
